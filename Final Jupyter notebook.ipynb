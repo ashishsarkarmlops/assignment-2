{
 "cells": [
  {
   "attachments": {},
   "cell_type": "markdown",
   "metadata": {},
   "source": [
    "DESCRIPTION\n",
    "\n",
    "Identify the level of income qualification needed for the families in Latin America\n",
    "\n",
    "# Problem Statement Scenario:\n",
    "Many social programs have a hard time making sure the right people are given enough aid. It’s tricky when a program focuses on the poorest segment of the population. This segment of population can’t provide the necessary income and expen|se records to prove that they qualify.\n",
    "\n",
    "In Latin America, a popular method called Proxy Means Test (PMT) uses an algorithm to verify income qualification. With PMT, agencies use a model that considers a family’s observable household attributes like the material of their walls and ceiling or the assets found in their homes to classify them and predict their level of need. While this is an improvement, accuracy remains a problem as the region’s population grows and poverty declines.\n",
    "\n",
    "The Inter-American Development Bank (IDB) believes that new methods beyond traditional econometrics, based on a dataset of Costa Rican household characteristics, might help improve PMT’s performance.\n"
   ]
  },
  {
   "attachments": {},
   "cell_type": "markdown",
   "metadata": {},
   "source": [
    "# Following actions should be performed:\n",
    "* Identify the output variable.\n",
    "* Understand the type of data.\n",
    "* Check if there are any biases in your dataset.\n",
    "* Check whether all members of the house have the same poverty level.\n",
    "* Check if there is a house without a family head.\n",
    "* Set the poverty level of the members and the head of the house same in a family.\n",
    "* Count how many null values are existing in columns.\n",
    "* Remove null value rows of the target variable.\n",
    "* Predict the accuracy using random forest classifier.\n",
    "* Check the accuracy using a random forest with cross-validation."
   ]
  },
  {
   "attachments": {},
   "cell_type": "markdown",
   "metadata": {},
   "source": [
    "# Variable Dictionary \n",
    "1.\tID = Unique ID\n",
    "2.\tv2a1, Monthly rent payment\n",
    "3.\thacdor, =1 Overcrowding by bedrooms\n",
    "4.\trooms, number of all rooms in the house\n",
    "5.\thacapo, =1 Overcrowding by rooms\n",
    "6.\tv14a, =1 has bathroom in the household\n",
    "7.\trefrig, =1 if the household has a refrigerator\n",
    "8.\tv18q, owns a tablet\n",
    "9.\tv18q1, number of tablets household owns\n",
    "10.\tr4h1, Males younger than 12 years of age\n",
    "11.\tr4h2, Males 12 years of age and older\n",
    "12.\tr4h3, Total males in the household\n",
    "13.\tr4m1, Females younger than 12 years of age\n",
    "14.\tr4m2, Females 12 years of age and older\n",
    "15.\tr4m3, Total females in the household\n",
    "16.\tr4t1, persons younger than 12 years of age\n",
    "17.\tr4t2, persons 12 years of age and older\n",
    "18.\tr4t3, Total persons in the household\n",
    "19.\ttamhog, size of the household\n",
    "20.\ttamviv, number of persons living in the household\n",
    "21.\tescolari, years of schooling\n",
    "22.\trez_esc, Years behind in school\n",
    "23.\thhsize, household size\n",
    "24.\tparedblolad, =1 if predominant material on the outside wall is block or brick\n",
    "25.\tparedzocalo, \"=1 if predominant material on the outside wall is socket (wood, zinc or absbesto\"\n",
    "26.\tparedpreb, =1 if predominant material on the outside wall is prefabricated or cement\n",
    "27.\tpareddes, =1 if predominant material on the outside wall is waste material\n",
    "28.\tparedmad, =1 if predominant material on the outside wall is wood\n",
    "29.\tparedzinc, =1 if predominant material on the outside wall is zink\n",
    "30.\tparedfibras, =1 if predominant material on the outside wall is natural fibers\n",
    "31.\tparedother, =1 if predominant material on the outside wall is other\n",
    "32.\tpisomoscer, \"=1 if predominant material on the floor is mosaic, ceramic, terrazo\"\n",
    "33.\tpisocemento, =1 if predominant material on the floor is cement\n",
    "34.\tpisoother, =1 if predominant material on the floor is other\n",
    "35.\tpisonatur, =1 if predominant material on the floor is natural material\n",
    "36.\tpisonotiene, =1 if no floor at the household\n",
    "37.\tpisomadera, =1 if predominant material on the floor is wood\n",
    "38.\ttechozinc, =1 if predominant material on the roof is metal foil or zink\n",
    "39.\ttechoentrepiso, \"=1 if predominant material on the roof is fiber cement, mezzanine \"\n",
    "40.\ttechocane, =1 if predominant material on the roof is natural fibers\n",
    "41.\ttechootro, =1 if predominant material on the roof is other\n",
    "42.\tcielorazo, =1 if the house has ceiling\n",
    "43.\tabastaguadentro, =1 if water provision inside the dwelling\n",
    "44.\tabastaguafuera, =1 if water provision outside the dwelling\n",
    "45.\tabastaguano, =1 if no water provision\n",
    "46.\tpublic, \"=1 electricity from CNFL, ICE, ESPH/JASEC\"\n",
    "47.\tplanpri, =1 electricity from private plant\n",
    "48.\tnoelec, =1 no electricity in the dwelling\n",
    "49.\tcoopele, =1 electricity from cooperative\n",
    "50.\tsanitario1, =1 no toilet in the dwelling\n",
    "51.\tsanitario2, =1 toilet connected to sewer or cesspool\n",
    "52.\tsanitario3, =1 toilet connected to septic tank\n",
    "53.\tsanitario5, =1 toilet connected to black hole or letrine\n",
    "54.\tsanitario6, =1 toilet connected to other system\n",
    "55.\tenergcocinar1, =1 no main source of energy used for cooking (no kitchen)\n",
    "56.\tenergcocinar2, =1 main source of energy used for cooking electricity\n",
    "57.\tenergcocinar3, =1 main source of energy used for cooking gas\n",
    "58.\tenergcocinar4, =1 main source of energy used for cooking wood charcoal\n",
    "59.\telimbasu1, =1 if rubbish disposal mainly by tanker truck\n",
    "60.\telimbasu2, =1 if rubbish disposal mainly by botan hollow or buried\n",
    "61.\telimbasu3, =1 if rubbish disposal mainly by burning\n",
    "62.\telimbasu4, =1 if rubbish disposal mainly by throwing in an unoccupied space\n",
    "63.\telimbasu5, \"=1 if rubbish disposal mainly by throwing in river, creek or sea\"\n",
    "64.\telimbasu6, =1 if rubbish disposal mainly other\n",
    "65.\tepared1, =1 if walls are bad\n",
    "66.\tepared2, =1 if walls are regular\n",
    "67.\tepared3, =1 if walls are good\n",
    "68.\tetecho1, =1 if roof are bad\n",
    "69.\tetecho2, =1 if roof are regular\n",
    "70.\tetecho3, =1 if roof are good\n",
    "71.\teviv1, =1 if floor are bad\n",
    "72.\teviv2, =1 if floor are regular\n",
    "73.\teviv3, =1 if floor are good\n",
    "74.\tdis, =1 if disable person\n",
    "75.\tmale, =1 if male\n",
    "76.\tfemale, =1 if female\n",
    "77.\testadocivil1, =1 if less than 10 years old\n",
    "78.\testadocivil2, =1 if free or coupled uunion\n",
    "79.\testadocivil3, =1 if married\n",
    "80.\testadocivil4, =1 if divorced\n",
    "81.\testadocivil5, =1 if separated\n",
    "82.\testadocivil6, =1 if widow/er\n",
    "83.\testadocivil7, =1 if single\n",
    "84.\tparentesco1, =1 if household head\n",
    "85.\tparentesco2, =1 if spouse/partner\n",
    "86.\tparentesco3, =1 if son/doughter\n",
    "87.\tparentesco4, =1 if stepson/doughter\n",
    "88.\tparentesco5, =1 if son/doughter in law\n",
    "89.\tparentesco6, =1 if grandson/doughter\n",
    "90.\tparentesco7, =1 if mother/father\n",
    "91.\tparentesco8, =1 if father/mother in law\n",
    "92.\tparentesco9, =1 if brother/sister\n",
    "93.\tparentesco10, =1 if brother/sister in law\n",
    "94.\tparentesco11, =1 if other family member\n",
    "95.\tparentesco12, =1 if other non family member\n",
    "96.\tidhogar, Household level identifier\n",
    "97.\thogar_nin, Number of children 0 to 19 in household\n",
    "98.\thogar_adul, Number of adults in household\n",
    "99.\thogar_mayor, # of individuals 65+ in the household\n",
    "100.\thogar_total, # of total individuals in the household\n",
    "101.\tdependency, Dependency rate, calculated = (number of members of the household younger than 19 or older than 64)/(number of member of household between 19 and 64)\n",
    "102.\tedjefe, years of education of male head of household, based on the interaction of escolari (years of education), head of household and gender, yes=1 and no=0\n",
    "103.\tedjefa, years of education of female head of household, based on the interaction of escolari (years of education), head of household and gender, yes=1 and no=0\n",
    "104.\tmeaneduc,average years of education for adults (18+)\n",
    "105.\tinstlevel1, =1 no level of education\n",
    "106.\tinstlevel2, =1 incomplete primary\n",
    "107.\tinstlevel3, =1 complete primary\n",
    "108.\tinstlevel4, =1 incomplete academic secondary level\n",
    "109.\tinstlevel5, =1 complete academic secondary level\n",
    "110.\tinstlevel6, =1 incomplete technical secondary level\n",
    "111.\tinstlevel7, =1 complete technical secondary level\n",
    "112.\tinstlevel8, =1 undergraduate and higher education\n",
    "113.\tinstlevel9, =1 postgraduate higher education\n",
    "114.\tbedrooms, number of bedrooms\n",
    "115.\tovercrowding, # persons per room\n",
    "116.\ttipovivi1, =1 own and fully paid house\n",
    "117.\ttipovivi2, \"=1 own, paying in installments\"\n",
    "118.\ttipovivi3, =1 rented\n",
    "119.\ttipovivi4, =1 precarious\n",
    "120.\ttipovivi5, \"=1 other(assigned, borrowed)\"\n",
    "121.\tcomputer, =1 if the household has notebook or desktop computer\n",
    "122.\ttelevision, =1 if the household has TV\n",
    "123.\tmobilephone, =1 if mobile phone\n",
    "124.\tqmobilephone, # of mobile phones\n",
    "125.\tlugar1, =1 region Central \n",
    "126.\tlugar2, =1 region Chorotega\n",
    "127.\tlugar3, =1 region PacÃfico central\n",
    "128.\tlugar4, =1 region Brunca\n",
    "129.\tlugar5, =1 region Huetar AtlÃ¡ntica\n",
    "130.\tlugar6, =1 region Huetar Norte\n",
    "131.\tarea1, =1 zona urbana\n",
    "132.\tarea2, =2 zona rural\n",
    "133.\tage= Age in years\n",
    "134.\tSQBescolari= escolari squared\n",
    "135.\tSQBage, age squared\n",
    "136.\tSQBhogar_total, hogar_total squared\n",
    "137.\tSQBedjefe, edjefe squared\n",
    "138.\tSQBhogar_nin, hogar_nin squared\n",
    "139.\tSQBovercrowding, overcrowding squared\n",
    "140.\tSQBdependency, dependency squared\n",
    "141.\tSQBmeaned, square of the mean years of education of adults (>=18) in the household\n",
    "142.\tagesq= Age squared\n",
    "\n"
   ]
  },
  {
   "cell_type": "code",
   "execution_count": null,
   "metadata": {},
   "outputs": [],
   "source": [
    "#Dependency installation \n",
    "#Run The below code for the first time  \n",
    "#!pip install numpy pandas matplotlib scikit-learn seaborn streamlit\n"
   ]
  },
  {
   "attachments": {},
   "cell_type": "markdown",
   "metadata": {},
   "source": [
    "==================================================================================================================================="
   ]
  },
  {
   "attachments": {},
   "cell_type": "markdown",
   "metadata": {},
   "source": [
    "# Stage 1\n"
   ]
  },
  {
   "cell_type": "code",
   "execution_count": 1,
   "metadata": {},
   "outputs": [],
   "source": [
    "#Dependencies \n",
    "import numpy as np # linear algebra\n",
    "import pandas as pd # data processing, CSV file I/O (e.g. pd.read_csv)\n",
    "import matplotlib.pyplot as plt #visualization \n",
    "import seaborn as sns#advanced visualization\n",
    "import warnings # to ignore the default warnings \n",
    "from scipy.stats import chi2 # for statistical functions \n",
    "from sklearn.ensemble import RandomForestClassifier #for model training as the data does not have a linear relatioship \n",
    "from sklearn.model_selection import train_test_split # for splitting data into train and test \n",
    "from sklearn.metrics import accuracy_score,confusion_matrix,f1_score,classification_report #for accuracy check \n",
    "from sklearn.model_selection import KFold,cross_val_score # for cross validation \n",
    "from scipy.stats import f_oneway # for statistical testing within continous and categorical variables \n",
    "from scipy.stats import chi2_contingency # for statistical testing within categorical and categorical variables\n",
    "import pickle # save model\n",
    "warnings.filterwarnings('ignore')\n",
    "%matplotlib inline \n",
    "#enables the drawing of matplotlib figures in the IPython environment\n",
    "# to display all the columns of the dataframe in the notebook\n",
    "pd.pandas.set_option('display.max_columns', None)"
   ]
  },
  {
   "cell_type": "code",
   "execution_count": 2,
   "metadata": {},
   "outputs": [],
   "source": [
    "sns.set_theme() # Setting the theme through sns to keep the theme similar for all plots "
   ]
  },
  {
   "attachments": {},
   "cell_type": "markdown",
   "metadata": {},
   "source": [
    "-------------------------------------------------------------------------------------------------------------------------------------------"
   ]
  },
  {
   "cell_type": "code",
   "execution_count": 25,
   "metadata": {},
   "outputs": [],
   "source": [
    "def Read_data(filename):\n",
    "    \"\"\"\n",
    "    Read a CSV file and return the data as a pandas DataFrame.\n",
    "\n",
    "    Parameters:\n",
    "    filename (str): The name of the CSV file to be read.\n",
    "\n",
    "    Returns:\n",
    "    pandas.DataFrame: A DataFrame containing the data from the CSV file.\n",
    "    \"\"\"\n",
    "    return pd.read_csv(filename)\n",
    "#############################################################################################################################################\n",
    "def find_target(df1,df2):\n",
    "    \"\"\"\n",
    "    Find the target column in two DataFrames and return the common target column.\n",
    "    Function takes two datasets as input and provides with the column name that is not present in the test set.\n",
    "\n",
    "    Parameters:\n",
    "    df1 (pandas.DataFrame): The first DataFrame to be compared.\n",
    "    df2 (pandas.DataFrame): The second DataFrame to be compared.\n",
    "\n",
    "    Returns:\n",
    "    str: The name of the target column that is present in `df1` but not in `df2`.\n",
    "    \"\"\" \n",
    "    return (list(set(df1.columns)-set(df2.columns)))[0]\n",
    "#############################################################################################################################################\n",
    "def plot_null_values(df, figsize_):# function expects two inputs 1) the data frame 2) a tuple (width,height)\n",
    "    \"\"\"\n",
    "    Plot a bar plot to visualize the columns with null values in a pandas DataFrame.\n",
    "\n",
    "    Parameters:\n",
    "    df (pandas.DataFrame): The DataFrame containing the variables to be analyzed.\n",
    "    figsize (tuple)(width,height): The size of the plot.\n",
    "\n",
    "    Returns:\n",
    "    None\n",
    "    \"\"\"\n",
    "    #figure size\n",
    "    plt.figure(figsize=figsize_)\n",
    "    # Get the columns with null values in the data frame \n",
    "    null_columns = df.columns[df.isnull().any()] \n",
    "    # Plot the columns with null values in the data frame \n",
    "    plt.bar(null_columns, df[null_columns].isnull().sum()) \n",
    "    plt.xlabel('Columns with Null Values') \n",
    "    plt.ylabel('Number of Null Values') \n",
    "    plt.title('Columns with Null Values in Data Frame') \n",
    "    plt.show()"
   ]
  },
  {
   "cell_type": "code",
   "execution_count": null,
   "metadata": {},
   "outputs": [],
   "source": [
    "#write a code to get a plot with the columns with null values in the data frame with adjustable figure size"
   ]
  },
  {
   "attachments": {},
   "cell_type": "markdown",
   "metadata": {},
   "source": [
    "---------------------------------------------------------------------------------------------------------------------------------------------"
   ]
  },
  {
   "attachments": {},
   "cell_type": "markdown",
   "metadata": {},
   "source": [
    "# Importing Data "
   ]
  },
  {
   "cell_type": "code",
   "execution_count": 4,
   "metadata": {},
   "outputs": [],
   "source": [
    "income_train_df=Read_data('train.csv') #Training dataset \n",
    "income_test_df=Read_data('test.csv') #Testing dataset "
   ]
  },
  {
   "attachments": {},
   "cell_type": "markdown",
   "metadata": {},
   "source": [
    "---------------------------------------------------------------------------------------------------------------------------------------------"
   ]
  },
  {
   "cell_type": "code",
   "execution_count": 5,
   "metadata": {},
   "outputs": [
    {
     "data": {
      "text/plain": [
       "((9557, 143), (23856, 142))"
      ]
     },
     "execution_count": 5,
     "metadata": {},
     "output_type": "execute_result"
    }
   ],
   "source": [
    "income_train_df.shape,income_test_df.shape"
   ]
  },
  {
   "attachments": {},
   "cell_type": "markdown",
   "metadata": {},
   "source": [
    "#   Inference\n",
    "* The training data consists of 9557 rows and 143 columns \n",
    "* The test data consists of 23856 rows and 142 columns (Possibility of the differnce column being the O/p target variable)\n",
    "* Let us Find the target Variable first "
   ]
  },
  {
   "cell_type": "code",
   "execution_count": 8,
   "metadata": {},
   "outputs": [
    {
     "name": "stdout",
     "output_type": "stream",
     "text": [
      "The O/P Variable is Target\n"
     ]
    }
   ],
   "source": [
    "Target_variable=find_target(income_train_df,income_test_df)\n",
    "print(f\"The O/P Variable is {Target_variable}\")"
   ]
  },
  {
   "attachments": {},
   "cell_type": "markdown",
   "metadata": {},
   "source": [
    "---------------------------------------------------------------------------------------------------------------------------------------------"
   ]
  },
  {
   "attachments": {},
   "cell_type": "markdown",
   "metadata": {},
   "source": [
    "#   Null Values "
   ]
  },
  {
   "cell_type": "code",
   "execution_count": 30,
   "metadata": {},
   "outputs": [
    {
     "data": {
      "image/png": "[encoded data removed]",
      "text/plain": [
       "<Figure size 600x300 with 1 Axes>"
      ]
     },
     "metadata": {},
     "output_type": "display_data"
    }
   ],
   "source": [
    "plot_null_values(income_train_df,(6,3))"
   ]
  },
  {
   "attachments": {},
   "cell_type": "markdown",
   "metadata": {},
   "source": [
    "# Inference \n",
    "##### Inference \n",
    "Looking at the different types of data and null values for each feature\n",
    "##### For respective columns below features has null value\n",
    "*   v2a1 6860 ==>71.77%  variable explaination => Monthly rent payment\n",
    "*   v18q1 7342 ==>76.82% variable explaination => Number of tablets household owns\n",
    "*   rez_esc 7928 ==>82.95% variable explaination => Years behind in school\n",
    "*   meaneduc 5 ==>0.05% variable explaination => average years of education for adults (18+)\n",
    "*   SQBmeaned 5 ==>0.05% variable explaination => square of the mean years of education of adults (>=18) in the household\n"
   ]
  },
  {
   "attachments": {},
   "cell_type": "markdown",
   "metadata": {},
   "source": [
    "----------------------------------------------------------------------------------------------------------------------"
   ]
  },
  {
   "attachments": {},
   "cell_type": "markdown",
   "metadata": {},
   "source": [
    "###   Null Value Replacement Strategy "
   ]
  },
  {
   "cell_type": "code",
   "execution_count": 31,
   "metadata": {},
   "outputs": [],
   "source": [
    "#separating columns which indicate home ownership\n",
    "own_variables = [x for x in income_train_df if x.startswith('tipo')]"
   ]
  },
  {
   "attachments": {},
   "cell_type": "markdown",
   "metadata": {},
   "source": [
    "# v2a1"
   ]
  },
  {
   "cell_type": "code",
   "execution_count": 36,
   "metadata": {},
   "outputs": [
    {
     "name": "stdout",
     "output_type": "stream",
     "text": [
      "column v2a1 has 6860 null values\n"
     ]
    },
    {
     "data": {
      "image/png": "[encoded data removed]",
      "text/plain": [
       "<Figure size 500x300 with 1 Axes>"
      ]
     },
     "metadata": {},
     "output_type": "display_data"
    }
   ],
   "source": [
    "print(f\"column {float_columns[0]} has {income_train_df[float_columns[0]].isnull().sum()} null values\")\n",
    "# Plot of the home ownership variables for home missing rent payments\n",
    "plt.figure(figsize=(5,3))# figure size\n",
    "income_train_df.loc[income_train_df['v2a1'].isnull(), own_variables].sum().sort_values().plot(kind='bar')\n",
    "plt.xticks([0, 1, 2, 3, 4],[ 'Owns and Paying','Rented', 'Precarious',  'Other', 'Owns and Paid Off'],rotation = 90)\n",
    "plt.title('Home Ownership Status for Households Missing Rent', size = 10)\n",
    "plt.show()"
   ]
  },
  {
   "attachments": {},
   "cell_type": "markdown",
   "metadata": {},
   "source": [
    "# Inference \n",
    "* It is Clearly eminent that when the property is paid off the there is no further requirement of rent to be paid which stand as null values so the null values acn be replaced with 0"
   ]
  },
  {
   "attachments": {},
   "cell_type": "markdown",
   "metadata": {},
   "source": [
    "--------------------------------------------------------------------------------------------------------------------------"
   ]
  },
  {
   "attachments": {},
   "cell_type": "markdown",
   "metadata": {},
   "source": [
    "# v18q"
   ]
  },
  {
   "cell_type": "code",
   "execution_count": 38,
   "metadata": {},
   "outputs": [
    {
     "name": "stdout",
     "output_type": "stream",
     "text": [
      "colum v18q1 has 7342 null values\n"
     ]
    }
   ],
   "source": [
    "print(f\"colum {float_columns[1]} has {income_train_df[float_columns[1]].isnull().sum()} null values\")\n",
    "\"\"\"Lets look at v18q1 (total nulls: 7342) : number of tablets household owns\n",
    "why the null values, Lets look at few rows with nulls in v18q1\n",
    "Columns related to number of tablets household owns\n",
    "v18q, owns a tablet\n",
    "Since this is a household variable, it only makes sense to look at it on a household level\n",
    "so we'll only select the rows for the head of household.\n",
    "\"\"\"\n",
    "heads = income_train_df.loc[income_train_df['parentesco1'] == 1].copy()"
   ]
  },
  {
   "cell_type": "code",
   "execution_count": 39,
   "metadata": {},
   "outputs": [
    {
     "data": {
      "text/plain": [
       "v18q\n",
       "0    2318\n",
       "1       0\n",
       "Name: v18q1, dtype: int64"
      ]
     },
     "execution_count": 39,
     "metadata": {},
     "output_type": "execute_result"
    }
   ],
   "source": [
    "heads.groupby('v18q')['v18q1'].apply(lambda x: x.isnull().sum())\n"
   ]
  },
  {
   "attachments": {},
   "cell_type": "markdown",
   "metadata": {},
   "source": [
    "# Inference \n",
    "* From Above it is clearly visible that all the values are missing where the owners do not own a tablet hence 0 should be the value to replace the null values as all the owners do not own one."
   ]
  },
  {
   "attachments": {},
   "cell_type": "markdown",
   "metadata": {},
   "source": [
    "-------------------------------------------------------------------------------------------------------------------------"
   ]
  },
  {
   "attachments": {},
   "cell_type": "markdown",
   "metadata": {},
   "source": [
    "# rez_esc"
   ]
  },
  {
   "cell_type": "code",
   "execution_count": 41,
   "metadata": {},
   "outputs": [
    {
     "data": {
      "text/plain": [
       "count     1.0\n",
       "mean     10.0\n",
       "std       NaN\n",
       "min      10.0\n",
       "25%      10.0\n",
       "50%      10.0\n",
       "75%      10.0\n",
       "max      10.0\n",
       "Name: age, dtype: float64"
      ]
     },
     "execution_count": 41,
     "metadata": {},
     "output_type": "execute_result"
    }
   ],
   "source": [
    "income_train_df.loc[(income_train_df['rez_esc'].isnull() & \n",
    "                     ((income_train_df['age'] > 7) & (income_train_df['age'] < 17)))]['age'].describe()\n",
    "#There is one value that has Null for the 'behind in school' column with age between 7 and 17 "
   ]
  },
  {
   "cell_type": "code",
   "execution_count": 42,
   "metadata": {},
   "outputs": [
    {
     "data": {
      "text/html": [
       "<div>\n",
       "<style scoped>\n",
       "    .dataframe tbody tr th:only-of-type {\n",
       "        vertical-align: middle;\n",
       "    }\n",
       "\n",
       "    .dataframe tbody tr th {\n",
       "        vertical-align: top;\n",
       "    }\n",
       "\n",
       "    .dataframe thead th {\n",
       "        text-align: right;\n",
       "    }\n",
       "</style>\n",
       "<table border=\"1\" class=\"dataframe\">\n",
       "  <thead>\n",
       "    <tr style=\"text-align: right;\">\n",
       "      <th></th>\n",
       "      <th>Id</th>\n",
       "      <th>v2a1</th>\n",
       "      <th>hacdor</th>\n",
       "      <th>rooms</th>\n",
       "      <th>hacapo</th>\n",
       "      <th>v14a</th>\n",
       "      <th>refrig</th>\n",
       "      <th>v18q</th>\n",
       "      <th>v18q1</th>\n",
       "      <th>r4h1</th>\n",
       "      <th>r4h2</th>\n",
       "      <th>r4h3</th>\n",
       "      <th>r4m1</th>\n",
       "      <th>r4m2</th>\n",
       "      <th>r4m3</th>\n",
       "      <th>r4t1</th>\n",
       "      <th>r4t2</th>\n",
       "      <th>r4t3</th>\n",
       "      <th>tamhog</th>\n",
       "      <th>tamviv</th>\n",
       "      <th>escolari</th>\n",
       "      <th>rez_esc</th>\n",
       "      <th>hhsize</th>\n",
       "      <th>paredblolad</th>\n",
       "      <th>paredzocalo</th>\n",
       "      <th>paredpreb</th>\n",
       "      <th>pareddes</th>\n",
       "      <th>paredmad</th>\n",
       "      <th>paredzinc</th>\n",
       "      <th>paredfibras</th>\n",
       "      <th>paredother</th>\n",
       "      <th>pisomoscer</th>\n",
       "      <th>pisocemento</th>\n",
       "      <th>pisoother</th>\n",
       "      <th>pisonatur</th>\n",
       "      <th>pisonotiene</th>\n",
       "      <th>pisomadera</th>\n",
       "      <th>techozinc</th>\n",
       "      <th>techoentrepiso</th>\n",
       "      <th>techocane</th>\n",
       "      <th>techootro</th>\n",
       "      <th>cielorazo</th>\n",
       "      <th>abastaguadentro</th>\n",
       "      <th>abastaguafuera</th>\n",
       "      <th>abastaguano</th>\n",
       "      <th>public</th>\n",
       "      <th>planpri</th>\n",
       "      <th>noelec</th>\n",
       "      <th>coopele</th>\n",
       "      <th>sanitario1</th>\n",
       "      <th>sanitario2</th>\n",
       "      <th>sanitario3</th>\n",
       "      <th>sanitario5</th>\n",
       "      <th>sanitario6</th>\n",
       "      <th>energcocinar1</th>\n",
       "      <th>energcocinar2</th>\n",
       "      <th>energcocinar3</th>\n",
       "      <th>energcocinar4</th>\n",
       "      <th>elimbasu1</th>\n",
       "      <th>elimbasu2</th>\n",
       "      <th>elimbasu3</th>\n",
       "      <th>elimbasu4</th>\n",
       "      <th>elimbasu5</th>\n",
       "      <th>elimbasu6</th>\n",
       "      <th>epared1</th>\n",
       "      <th>epared2</th>\n",
       "      <th>epared3</th>\n",
       "      <th>etecho1</th>\n",
       "      <th>etecho2</th>\n",
       "      <th>etecho3</th>\n",
       "      <th>eviv1</th>\n",
       "      <th>eviv2</th>\n",
       "      <th>eviv3</th>\n",
       "      <th>dis</th>\n",
       "      <th>male</th>\n",
       "      <th>female</th>\n",
       "      <th>estadocivil1</th>\n",
       "      <th>estadocivil2</th>\n",
       "      <th>estadocivil3</th>\n",
       "      <th>estadocivil4</th>\n",
       "      <th>estadocivil5</th>\n",
       "      <th>estadocivil6</th>\n",
       "      <th>estadocivil7</th>\n",
       "      <th>parentesco1</th>\n",
       "      <th>parentesco2</th>\n",
       "      <th>parentesco3</th>\n",
       "      <th>parentesco4</th>\n",
       "      <th>parentesco5</th>\n",
       "      <th>parentesco6</th>\n",
       "      <th>parentesco7</th>\n",
       "      <th>parentesco8</th>\n",
       "      <th>parentesco9</th>\n",
       "      <th>parentesco10</th>\n",
       "      <th>parentesco11</th>\n",
       "      <th>parentesco12</th>\n",
       "      <th>idhogar</th>\n",
       "      <th>hogar_nin</th>\n",
       "      <th>hogar_adul</th>\n",
       "      <th>hogar_mayor</th>\n",
       "      <th>hogar_total</th>\n",
       "      <th>dependency</th>\n",
       "      <th>edjefe</th>\n",
       "      <th>edjefa</th>\n",
       "      <th>meaneduc</th>\n",
       "      <th>instlevel1</th>\n",
       "      <th>instlevel2</th>\n",
       "      <th>instlevel3</th>\n",
       "      <th>instlevel4</th>\n",
       "      <th>instlevel5</th>\n",
       "      <th>instlevel6</th>\n",
       "      <th>instlevel7</th>\n",
       "      <th>instlevel8</th>\n",
       "      <th>instlevel9</th>\n",
       "      <th>bedrooms</th>\n",
       "      <th>overcrowding</th>\n",
       "      <th>tipovivi1</th>\n",
       "      <th>tipovivi2</th>\n",
       "      <th>tipovivi3</th>\n",
       "      <th>tipovivi4</th>\n",
       "      <th>tipovivi5</th>\n",
       "      <th>computer</th>\n",
       "      <th>television</th>\n",
       "      <th>mobilephone</th>\n",
       "      <th>qmobilephone</th>\n",
       "      <th>lugar1</th>\n",
       "      <th>lugar2</th>\n",
       "      <th>lugar3</th>\n",
       "      <th>lugar4</th>\n",
       "      <th>lugar5</th>\n",
       "      <th>lugar6</th>\n",
       "      <th>area1</th>\n",
       "      <th>area2</th>\n",
       "      <th>age</th>\n",
       "      <th>SQBescolari</th>\n",
       "      <th>SQBage</th>\n",
       "      <th>SQBhogar_total</th>\n",
       "      <th>SQBedjefe</th>\n",
       "      <th>SQBhogar_nin</th>\n",
       "      <th>SQBovercrowding</th>\n",
       "      <th>SQBdependency</th>\n",
       "      <th>SQBmeaned</th>\n",
       "      <th>agesq</th>\n",
       "      <th>Target</th>\n",
       "    </tr>\n",
       "  </thead>\n",
       "  <tbody>\n",
       "    <tr>\n",
       "      <th>2514</th>\n",
       "      <td>ID_f012e4242</td>\n",
       "      <td>160000.0</td>\n",
       "      <td>0</td>\n",
       "      <td>6</td>\n",
       "      <td>0</td>\n",
       "      <td>1</td>\n",
       "      <td>1</td>\n",
       "      <td>1</td>\n",
       "      <td>1.0</td>\n",
       "      <td>0</td>\n",
       "      <td>1</td>\n",
       "      <td>1</td>\n",
       "      <td>1</td>\n",
       "      <td>1</td>\n",
       "      <td>2</td>\n",
       "      <td>1</td>\n",
       "      <td>2</td>\n",
       "      <td>3</td>\n",
       "      <td>3</td>\n",
       "      <td>3</td>\n",
       "      <td>0</td>\n",
       "      <td>NaN</td>\n",
       "      <td>3</td>\n",
       "      <td>1</td>\n",
       "      <td>0</td>\n",
       "      <td>0</td>\n",
       "      <td>0</td>\n",
       "      <td>0</td>\n",
       "      <td>0</td>\n",
       "      <td>0</td>\n",
       "      <td>0</td>\n",
       "      <td>1</td>\n",
       "      <td>0</td>\n",
       "      <td>0</td>\n",
       "      <td>0</td>\n",
       "      <td>0</td>\n",
       "      <td>0</td>\n",
       "      <td>1</td>\n",
       "      <td>0</td>\n",
       "      <td>0</td>\n",
       "      <td>0</td>\n",
       "      <td>1</td>\n",
       "      <td>1</td>\n",
       "      <td>0</td>\n",
       "      <td>0</td>\n",
       "      <td>1</td>\n",
       "      <td>0</td>\n",
       "      <td>0</td>\n",
       "      <td>0</td>\n",
       "      <td>0</td>\n",
       "      <td>0</td>\n",
       "      <td>1</td>\n",
       "      <td>0</td>\n",
       "      <td>0</td>\n",
       "      <td>0</td>\n",
       "      <td>0</td>\n",
       "      <td>1</td>\n",
       "      <td>0</td>\n",
       "      <td>1</td>\n",
       "      <td>0</td>\n",
       "      <td>0</td>\n",
       "      <td>0</td>\n",
       "      <td>0</td>\n",
       "      <td>0</td>\n",
       "      <td>0</td>\n",
       "      <td>0</td>\n",
       "      <td>1</td>\n",
       "      <td>0</td>\n",
       "      <td>1</td>\n",
       "      <td>0</td>\n",
       "      <td>0</td>\n",
       "      <td>0</td>\n",
       "      <td>1</td>\n",
       "      <td>1</td>\n",
       "      <td>0</td>\n",
       "      <td>1</td>\n",
       "      <td>0</td>\n",
       "      <td>0</td>\n",
       "      <td>0</td>\n",
       "      <td>0</td>\n",
       "      <td>0</td>\n",
       "      <td>0</td>\n",
       "      <td>1</td>\n",
       "      <td>0</td>\n",
       "      <td>0</td>\n",
       "      <td>1</td>\n",
       "      <td>0</td>\n",
       "      <td>0</td>\n",
       "      <td>0</td>\n",
       "      <td>0</td>\n",
       "      <td>0</td>\n",
       "      <td>0</td>\n",
       "      <td>0</td>\n",
       "      <td>0</td>\n",
       "      <td>0</td>\n",
       "      <td>0369a5d78</td>\n",
       "      <td>1</td>\n",
       "      <td>2</td>\n",
       "      <td>0</td>\n",
       "      <td>3</td>\n",
       "      <td>.5</td>\n",
       "      <td>11</td>\n",
       "      <td>no</td>\n",
       "      <td>13.5</td>\n",
       "      <td>1</td>\n",
       "      <td>0</td>\n",
       "      <td>0</td>\n",
       "      <td>0</td>\n",
       "      <td>0</td>\n",
       "      <td>0</td>\n",
       "      <td>0</td>\n",
       "      <td>0</td>\n",
       "      <td>0</td>\n",
       "      <td>2</td>\n",
       "      <td>1.5</td>\n",
       "      <td>0</td>\n",
       "      <td>1</td>\n",
       "      <td>0</td>\n",
       "      <td>0</td>\n",
       "      <td>0</td>\n",
       "      <td>1</td>\n",
       "      <td>0</td>\n",
       "      <td>1</td>\n",
       "      <td>2</td>\n",
       "      <td>1</td>\n",
       "      <td>0</td>\n",
       "      <td>0</td>\n",
       "      <td>0</td>\n",
       "      <td>0</td>\n",
       "      <td>0</td>\n",
       "      <td>1</td>\n",
       "      <td>0</td>\n",
       "      <td>10</td>\n",
       "      <td>0</td>\n",
       "      <td>100</td>\n",
       "      <td>9</td>\n",
       "      <td>121</td>\n",
       "      <td>1</td>\n",
       "      <td>2.25</td>\n",
       "      <td>0.25</td>\n",
       "      <td>182.25</td>\n",
       "      <td>100</td>\n",
       "      <td>4</td>\n",
       "    </tr>\n",
       "  </tbody>\n",
       "</table>\n",
       "</div>"
      ],
      "text/plain": [
       "                Id      v2a1  hacdor  rooms  hacapo  v14a  refrig  v18q  \\\n",
       "2514  ID_f012e4242  160000.0       0      6       0     1       1     1   \n",
       "\n",
       "      v18q1  r4h1  r4h2  r4h3  r4m1  r4m2  r4m3  r4t1  r4t2  r4t3  tamhog  \\\n",
       "2514    1.0     0     1     1     1     1     2     1     2     3       3   \n",
       "\n",
       "      tamviv  escolari  rez_esc  hhsize  paredblolad  paredzocalo  paredpreb  \\\n",
       "2514       3         0      NaN       3            1            0          0   \n",
       "\n",
       "      pareddes  paredmad  paredzinc  paredfibras  paredother  pisomoscer  \\\n",
       "2514         0         0          0            0           0           1   \n",
       "\n",
       "      pisocemento  pisoother  pisonatur  pisonotiene  pisomadera  techozinc  \\\n",
       "2514            0          0          0            0           0          1   \n",
       "\n",
       "      techoentrepiso  techocane  techootro  cielorazo  abastaguadentro  \\\n",
       "2514               0          0          0          1                1   \n",
       "\n",
       "      abastaguafuera  abastaguano  public  planpri  noelec  coopele  \\\n",
       "2514               0            0       1        0       0        0   \n",
       "\n",
       "      sanitario1  sanitario2  sanitario3  sanitario5  sanitario6  \\\n",
       "2514           0           0           1           0           0   \n",
       "\n",
       "      energcocinar1  energcocinar2  energcocinar3  energcocinar4  elimbasu1  \\\n",
       "2514              0              0              1              0          1   \n",
       "\n",
       "      elimbasu2  elimbasu3  elimbasu4  elimbasu5  elimbasu6  epared1  epared2  \\\n",
       "2514          0          0          0          0          0        0        0   \n",
       "\n",
       "      epared3  etecho1  etecho2  etecho3  eviv1  eviv2  eviv3  dis  male  \\\n",
       "2514        1        0        1        0      0      0      1    1     0   \n",
       "\n",
       "      female  estadocivil1  estadocivil2  estadocivil3  estadocivil4  \\\n",
       "2514       1             0             0             0             0   \n",
       "\n",
       "      estadocivil5  estadocivil6  estadocivil7  parentesco1  parentesco2  \\\n",
       "2514             0             0             1            0            0   \n",
       "\n",
       "      parentesco3  parentesco4  parentesco5  parentesco6  parentesco7  \\\n",
       "2514            1            0            0            0            0   \n",
       "\n",
       "      parentesco8  parentesco9  parentesco10  parentesco11  parentesco12  \\\n",
       "2514            0            0             0             0             0   \n",
       "\n",
       "        idhogar  hogar_nin  hogar_adul  hogar_mayor  hogar_total dependency  \\\n",
       "2514  0369a5d78          1           2            0            3         .5   \n",
       "\n",
       "     edjefe edjefa  meaneduc  instlevel1  instlevel2  instlevel3  instlevel4  \\\n",
       "2514     11     no      13.5           1           0           0           0   \n",
       "\n",
       "      instlevel5  instlevel6  instlevel7  instlevel8  instlevel9  bedrooms  \\\n",
       "2514           0           0           0           0           0         2   \n",
       "\n",
       "      overcrowding  tipovivi1  tipovivi2  tipovivi3  tipovivi4  tipovivi5  \\\n",
       "2514           1.5          0          1          0          0          0   \n",
       "\n",
       "      computer  television  mobilephone  qmobilephone  lugar1  lugar2  lugar3  \\\n",
       "2514         1           0            1             2       1       0       0   \n",
       "\n",
       "      lugar4  lugar5  lugar6  area1  area2  age  SQBescolari  SQBage  \\\n",
       "2514       0       0       0      1      0   10            0     100   \n",
       "\n",
       "      SQBhogar_total  SQBedjefe  SQBhogar_nin  SQBovercrowding  SQBdependency  \\\n",
       "2514               9        121             1             2.25           0.25   \n",
       "\n",
       "      SQBmeaned  agesq  Target  \n",
       "2514     182.25    100       4  "
      ]
     },
     "execution_count": 42,
     "metadata": {},
     "output_type": "execute_result"
    }
   ],
   "source": [
    "income_train_df[(income_train_df['age'] ==10) & income_train_df['rez_esc'].isnull()].head()\n",
    "income_train_df[(income_train_df['Id'] =='ID_f012e4242')]\n"
   ]
  },
  {
   "cell_type": "code",
   "execution_count": null,
   "metadata": {},
   "outputs": [],
   "source": [
    "#escolari:years of schooling\n",
    "#rez_esc:Years behind in school"
   ]
  },
  {
   "cell_type": "code",
   "execution_count": 52,
   "metadata": {},
   "outputs": [
    {
     "data": {
      "text/html": [
       "<div>\n",
       "<style scoped>\n",
       "    .dataframe tbody tr th:only-of-type {\n",
       "        vertical-align: middle;\n",
       "    }\n",
       "\n",
       "    .dataframe tbody tr th {\n",
       "        vertical-align: top;\n",
       "    }\n",
       "\n",
       "    .dataframe thead th {\n",
       "        text-align: right;\n",
       "    }\n",
       "</style>\n",
       "<table border=\"1\" class=\"dataframe\">\n",
       "  <thead>\n",
       "    <tr style=\"text-align: right;\">\n",
       "      <th></th>\n",
       "      <th>escolari</th>\n",
       "      <th>rez_esc</th>\n",
       "      <th>age</th>\n",
       "    </tr>\n",
       "  </thead>\n",
       "  <tbody>\n",
       "    <tr>\n",
       "      <th>0</th>\n",
       "      <td>10</td>\n",
       "      <td>NaN</td>\n",
       "      <td>43</td>\n",
       "    </tr>\n",
       "    <tr>\n",
       "      <th>1</th>\n",
       "      <td>12</td>\n",
       "      <td>NaN</td>\n",
       "      <td>67</td>\n",
       "    </tr>\n",
       "    <tr>\n",
       "      <th>2</th>\n",
       "      <td>11</td>\n",
       "      <td>NaN</td>\n",
       "      <td>92</td>\n",
       "    </tr>\n",
       "    <tr>\n",
       "      <th>4</th>\n",
       "      <td>11</td>\n",
       "      <td>NaN</td>\n",
       "      <td>37</td>\n",
       "    </tr>\n",
       "    <tr>\n",
       "      <th>5</th>\n",
       "      <td>11</td>\n",
       "      <td>NaN</td>\n",
       "      <td>38</td>\n",
       "    </tr>\n",
       "    <tr>\n",
       "      <th>...</th>\n",
       "      <td>...</td>\n",
       "      <td>...</td>\n",
       "      <td>...</td>\n",
       "    </tr>\n",
       "    <tr>\n",
       "      <th>9552</th>\n",
       "      <td>9</td>\n",
       "      <td>NaN</td>\n",
       "      <td>46</td>\n",
       "    </tr>\n",
       "    <tr>\n",
       "      <th>9553</th>\n",
       "      <td>0</td>\n",
       "      <td>NaN</td>\n",
       "      <td>2</td>\n",
       "    </tr>\n",
       "    <tr>\n",
       "      <th>9554</th>\n",
       "      <td>5</td>\n",
       "      <td>NaN</td>\n",
       "      <td>50</td>\n",
       "    </tr>\n",
       "    <tr>\n",
       "      <th>9555</th>\n",
       "      <td>11</td>\n",
       "      <td>NaN</td>\n",
       "      <td>26</td>\n",
       "    </tr>\n",
       "    <tr>\n",
       "      <th>9556</th>\n",
       "      <td>8</td>\n",
       "      <td>NaN</td>\n",
       "      <td>21</td>\n",
       "    </tr>\n",
       "  </tbody>\n",
       "</table>\n",
       "<p>7928 rows × 3 columns</p>\n",
       "</div>"
      ],
      "text/plain": [
       "      escolari  rez_esc  age\n",
       "0           10      NaN   43\n",
       "1           12      NaN   67\n",
       "2           11      NaN   92\n",
       "4           11      NaN   37\n",
       "5           11      NaN   38\n",
       "...        ...      ...  ...\n",
       "9552         9      NaN   46\n",
       "9553         0      NaN    2\n",
       "9554         5      NaN   50\n",
       "9555        11      NaN   26\n",
       "9556         8      NaN   21\n",
       "\n",
       "[7928 rows x 3 columns]"
      ]
     },
     "execution_count": 52,
     "metadata": {},
     "output_type": "execute_result"
    }
   ],
   "source": [
    "income_train_df[['escolari','rez_esc','age']][income_train_df['rez_esc'].isnull()]"
   ]
  },
  {
   "cell_type": "code",
   "execution_count": 62,
   "metadata": {},
   "outputs": [
    {
     "data": {
      "text/plain": [
       "6     150\n",
       "3     143\n",
       "4     139\n",
       "5     134\n",
       "1     120\n",
       "     ... \n",
       "71      1\n",
       "90      1\n",
       "87      1\n",
       "81      1\n",
       "24      1\n",
       "Name: age, Length: 85, dtype: int64"
      ]
     },
     "execution_count": 62,
     "metadata": {},
     "output_type": "execute_result"
    }
   ],
   "source": [
    "tester=income_train_df[['escolari','rez_esc','age']].sort_values('escolari')\n",
    "tester[tester['escolari']==0]['age'].sort_values().value_counts()"
   ]
  },
  {
   "cell_type": "code",
   "execution_count": 51,
   "metadata": {},
   "outputs": [
    {
     "data": {
      "text/html": [
       "<div>\n",
       "<style scoped>\n",
       "    .dataframe tbody tr th:only-of-type {\n",
       "        vertical-align: middle;\n",
       "    }\n",
       "\n",
       "    .dataframe tbody tr th {\n",
       "        vertical-align: top;\n",
       "    }\n",
       "\n",
       "    .dataframe thead th {\n",
       "        text-align: right;\n",
       "    }\n",
       "</style>\n",
       "<table border=\"1\" class=\"dataframe\">\n",
       "  <thead>\n",
       "    <tr style=\"text-align: right;\">\n",
       "      <th></th>\n",
       "      <th>age</th>\n",
       "      <th>rez_esc</th>\n",
       "    </tr>\n",
       "  </thead>\n",
       "  <tbody>\n",
       "    <tr>\n",
       "      <th>0</th>\n",
       "      <td>43</td>\n",
       "      <td>NaN</td>\n",
       "    </tr>\n",
       "    <tr>\n",
       "      <th>1</th>\n",
       "      <td>67</td>\n",
       "      <td>NaN</td>\n",
       "    </tr>\n",
       "    <tr>\n",
       "      <th>2</th>\n",
       "      <td>92</td>\n",
       "      <td>NaN</td>\n",
       "    </tr>\n",
       "    <tr>\n",
       "      <th>3</th>\n",
       "      <td>17</td>\n",
       "      <td>1.0</td>\n",
       "    </tr>\n",
       "    <tr>\n",
       "      <th>4</th>\n",
       "      <td>37</td>\n",
       "      <td>NaN</td>\n",
       "    </tr>\n",
       "    <tr>\n",
       "      <th>...</th>\n",
       "      <td>...</td>\n",
       "      <td>...</td>\n",
       "    </tr>\n",
       "    <tr>\n",
       "      <th>9552</th>\n",
       "      <td>46</td>\n",
       "      <td>NaN</td>\n",
       "    </tr>\n",
       "    <tr>\n",
       "      <th>9553</th>\n",
       "      <td>2</td>\n",
       "      <td>NaN</td>\n",
       "    </tr>\n",
       "    <tr>\n",
       "      <th>9554</th>\n",
       "      <td>50</td>\n",
       "      <td>NaN</td>\n",
       "    </tr>\n",
       "    <tr>\n",
       "      <th>9555</th>\n",
       "      <td>26</td>\n",
       "      <td>NaN</td>\n",
       "    </tr>\n",
       "    <tr>\n",
       "      <th>9556</th>\n",
       "      <td>21</td>\n",
       "      <td>NaN</td>\n",
       "    </tr>\n",
       "  </tbody>\n",
       "</table>\n",
       "<p>9557 rows × 2 columns</p>\n",
       "</div>"
      ],
      "text/plain": [
       "      age  rez_esc\n",
       "0      43      NaN\n",
       "1      67      NaN\n",
       "2      92      NaN\n",
       "3      17      1.0\n",
       "4      37      NaN\n",
       "...   ...      ...\n",
       "9552   46      NaN\n",
       "9553    2      NaN\n",
       "9554   50      NaN\n",
       "9555   26      NaN\n",
       "9556   21      NaN\n",
       "\n",
       "[9557 rows x 2 columns]"
      ]
     },
     "execution_count": 51,
     "metadata": {},
     "output_type": "execute_result"
    }
   ],
   "source": [
    "income_train_df[['age','rez_esc']]"
   ]
  },
  {
   "attachments": {},
   "cell_type": "markdown",
   "metadata": {},
   "source": [
    "# Inference\n",
    "* This is observed that usually the people who are behind in school are younge than 10 years of age \n",
    "#there is only one member in household for the member with age 10 and who is 'behind in school'. This explains why the member is \n",
    "#behind in school."
   ]
  },
  {
   "cell_type": "markdown",
   "metadata": {},
   "source": []
  }
 ],
 "metadata": {
  "kernelspec": {
   "display_name": "Assignment3",
   "language": "python",
   "name": "python3"
  },
  "language_info": {
   "codemirror_mode": {
    "name": "ipython",
    "version": 3
   },
   "file_extension": ".py",
   "mimetype": "text/x-python",
   "name": "python",
   "nbconvert_exporter": "python",
   "pygments_lexer": "ipython3",
   "version": "3.9.16"
  },
  "orig_nbformat": 4,
  "vscode": {
   "interpreter": {
    "hash": "5092fbf4174d3d0bd87c08c6f8976570d10f3a757fee33dfd1847038639363cf"
   }
  }
 },
 "nbformat": 4,
 "nbformat_minor": 2
}
