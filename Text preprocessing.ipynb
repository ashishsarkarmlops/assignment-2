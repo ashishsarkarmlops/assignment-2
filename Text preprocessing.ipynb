{
 "cells": [
  {
   "attachments": {},
   "cell_type": "markdown",
   "metadata": {},
   "source": [
    "DESCRIPTION\n",
    "\n",
    "Identify the level of income qualification needed for the families in Latin America\n",
    "\n",
    "# Problem Statement Scenario:\n",
    "Many social programs have a hard time making sure the right people are given enough aid. It’s tricky when a program focuses on the poorest segment of the population. This segment of population can’t provide the necessary income and expen|se records to prove that they qualify.\n",
    "\n",
    "In Latin America, a popular method called Proxy Means Test (PMT) uses an algorithm to verify income qualification. With PMT, agencies use a model that considers a family’s observable household attributes like the material of their walls and ceiling or the assets found in their homes to classify them and predict their level of need. While this is an improvement, accuracy remains a problem as the region’s population grows and poverty declines.\n",
    "\n",
    "The Inter-American Development Bank (IDB) believes that new methods beyond traditional econometrics, based on a dataset of Costa Rican household characteristics, might help improve PMT’s performance.\n"
   ]
  },
  {
   "attachments": {},
   "cell_type": "markdown",
   "metadata": {},
   "source": [
    "# Following actions should be performed:\n",
    "* Identify the output variable.\n",
    "* Understand the type of data.\n",
    "* Check if there are any biases in your dataset.\n",
    "* Check whether all members of the house have the same poverty level.\n",
    "* Check if there is a house without a family head.\n",
    "* Set the poverty level of the members and the head of the house same in a family.\n",
    "* Count how many null values are existing in columns.\n",
    "* Remove null value rows of the target variable.\n",
    "* Predict the accuracy using random forest classifier.\n",
    "* Check the accuracy using a random forest with cross-validation."
   ]
  },
  {
   "cell_type": "markdown",
   "metadata": {},
   "source": []
  }
 ],
 "metadata": {
  "language_info": {
   "name": "python"
  },
  "orig_nbformat": 4
 },
 "nbformat": 4,
 "nbformat_minor": 2
}
